{
 "cells": [
  {
   "cell_type": "code",
   "execution_count": 2,
   "metadata": {},
   "outputs": [
    {
     "name": "stdout",
     "output_type": "stream",
     "text": [
      "g + g = [  2   8   6 128]\n",
      "g(matrix + matrix) = [  2  16   6 512]\n",
      "Are g + g and g(matrix + matrix) equal? False\n",
      "This result shows that g is not a linear function, as g(x + x) ≠ g(x) + g(x) for the given matrix.\n"
     ]
    }
   ],
   "source": [
    "# 3. c.) Consider the function g: M2x2 à R4 given by g  = ( a  b2  c  d3)   Note:  M2x2 means the set of all 2 x 2 matrices with real numbers.  This is a four dimensional vector space.  Compute g  + g  , and also compute g(  +  ).  What does this result tell us about g?\n",
    "\n",
    "import numpy as np\n",
    "import scipy.linalg as la\n",
    "\n",
    "# Define the function g for a 2x2 matrix\n",
    "def g(matrix):\n",
    "    a, b, c, d = matrix.ravel()\n",
    "    return np.array([a, b**2, c, d**3])\n",
    "\n",
    "# Define a 2x2 matrix\n",
    "matrix = np.array([[1, 2], [3, 4]])\n",
    "\n",
    "# Compute g + g\n",
    "g_result = g(matrix)\n",
    "g_plus_g = g_result + g_result\n",
    "print(\"g + g =\", g_plus_g)\n",
    "\n",
    "# Compute g(matrix + matrix)\n",
    "g_of_sum = g(matrix + matrix)\n",
    "print(\"g(matrix + matrix) =\", g_of_sum)\n",
    "\n",
    "# Compare the results\n",
    "print(\"Are g + g and g(matrix + matrix) equal?\", np.array_equal(g_plus_g, g_of_sum))\n",
    "\n",
    "# What this result tells us about g\n",
    "print(\"This result shows that g is not a linear function, as g(x + x) ≠ g(x) + g(x) for the given matrix.\")\n"
   ]
  }
 ],
 "metadata": {
  "kernelspec": {
   "display_name": "linear_algebra",
   "language": "python",
   "name": "python3"
  },
  "language_info": {
   "codemirror_mode": {
    "name": "ipython",
    "version": 3
   },
   "file_extension": ".py",
   "mimetype": "text/x-python",
   "name": "python",
   "nbconvert_exporter": "python",
   "pygments_lexer": "ipython3",
   "version": "3.12.6"
  }
 },
 "nbformat": 4,
 "nbformat_minor": 2
}

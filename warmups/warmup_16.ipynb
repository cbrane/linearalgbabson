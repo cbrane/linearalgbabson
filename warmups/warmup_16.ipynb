{
 "cells": [
  {
   "cell_type": "code",
   "execution_count": 1,
   "metadata": {},
   "outputs": [
    {
     "name": "stdout",
     "output_type": "stream",
     "text": [
      "All possible permutations: [(1, 2, 3, 4), (1, 2, 4, 3), (1, 3, 2, 4), (1, 3, 4, 2), (1, 4, 2, 3), (1, 4, 3, 2), (2, 1, 3, 4), (2, 1, 4, 3), (2, 3, 1, 4), (2, 3, 4, 1), (2, 4, 1, 3), (2, 4, 3, 1), (3, 1, 2, 4), (3, 1, 4, 2), (3, 2, 1, 4), (3, 2, 4, 1), (3, 4, 1, 2), (3, 4, 2, 1), (4, 1, 2, 3), (4, 1, 3, 2), (4, 2, 1, 3), (4, 2, 3, 1), (4, 3, 1, 2), (4, 3, 2, 1)]\n",
      "Number of permutations: 24\n"
     ]
    }
   ],
   "source": [
    "# Imagine that the job market is red hot so that once you interview someone, you must hire them immediately or they will get another job!  So after each interview you say either, “You’re hired!” or “Sorry, good luck in your job search!”  Your objective is to maximize the probability that you hire the BEST candidate, number one.  So you adopt the following strategy:  You will interview one candidate, just to set a standard, but not hire them.  Then the first candidate you meet after that who is BETTER than the first one is who you will hire. \n",
    "\n",
    "# The candidates will appear in some random permutation of the numbers 1 – 2 – 3 – 4.\n",
    "\n",
    "# Create all the possible permutations of the numbers 1 - 2 - 3 - 4. \n",
    "from itertools import permutations\n",
    "\n",
    "# Create list of numbers 1-4\n",
    "numbers = list(range(1, 5))\n",
    "\n",
    "# Generate all permutations\n",
    "perms = list(permutations(numbers))\n",
    "\n",
    "print(f\"All possible permutations: {perms}\")\n",
    "print(f\"Number of permutations: {len(perms)}\")\n"
   ]
  },
  {
   "cell_type": "code",
   "execution_count": 15,
   "metadata": {},
   "outputs": [
    {
     "name": "stdout",
     "output_type": "stream",
     "text": [
      "Probability of hiring the best candidate: 0.4583333333333333\n",
      "\n",
      "Winning permutations where we hire candidate #1:\n",
      "Number of winning permutations: 11\n",
      "(2, 1, 3, 4)\n",
      "(2, 1, 4, 3)\n",
      "(2, 3, 1, 4)\n",
      "(2, 3, 4, 1)\n",
      "(2, 4, 1, 3)\n",
      "(2, 4, 3, 1)\n",
      "(3, 1, 2, 4)\n",
      "(3, 1, 4, 2)\n",
      "(3, 4, 1, 2)\n",
      "(4, 1, 2, 3)\n",
      "(4, 1, 3, 2)\n"
     ]
    }
   ],
   "source": [
    "# Examples:  If the permutation is 3 – 2 – 1 – 4, you would hire number two because:\n",
    "# -You interview #3 on day one.  We never hire the first person, so we let them go.\n",
    "# -Then on day two, you meet number 2.  You like this person better than #3 so you hire them.  You get a pretty good candidate but you don't win by hiring the best. \n",
    "# And obviously any permutation that starts with #1 is a loser!  You interview #1 first, but don't hire them so you wind up hiring whoever comes in last. \n",
    "# Your task:  Write out the 24 permutations of 1 – 2 – 3 – 4.  Circle the ones where you wind up hiring the best!  What fraction of the time do you 'win' by hiring number one?\n",
    "# Using this information, lets calculate how often we win by hiring number one. We do this by not hiring the first person, but then hiring the next person who is better than the first. We need to check by doing this pattern, how many times that we end up hiring number one.\n",
    "wins = 0\n",
    "winning_perms = []\n",
    "for perm in perms:\n",
    "    # If first candidate is 1, we automatically lose since we never hire first person\n",
    "    if perm[0] == 1:\n",
    "        continue\n",
    "        \n",
    "    first_candidate = perm[0]  # Remember first candidate's rank as benchmark\n",
    "    \n",
    "    # Check remaining candidates\n",
    "    for i in range(1, len(perm)):\n",
    "        # If current candidate is better (lower number) than first candidate\n",
    "        if perm[i] < first_candidate:\n",
    "            # If it's 1, we win! Otherwise we hire this person and lose\n",
    "            if perm[i] == 1:\n",
    "                wins += 1\n",
    "                winning_perms.append(perm)\n",
    "            break\n",
    "            \n",
    "print(f\"Probability of hiring the best candidate: {wins/len(perms)}\")\n",
    "print(f\"\\nWinning permutations where we hire candidate #1:\")\n",
    "print(f\"Number of winning permutations: {len(winning_perms)}\")\n",
    "\n",
    "for perm in winning_perms:\n",
    "    print(perm)"
   ]
  }
 ],
 "metadata": {
  "kernelspec": {
   "display_name": "linear_algebra",
   "language": "python",
   "name": "python3"
  },
  "language_info": {
   "codemirror_mode": {
    "name": "ipython",
    "version": 3
   },
   "file_extension": ".py",
   "mimetype": "text/x-python",
   "name": "python",
   "nbconvert_exporter": "python",
   "pygments_lexer": "ipython3",
   "version": "3.12.6"
  }
 },
 "nbformat": 4,
 "nbformat_minor": 2
}

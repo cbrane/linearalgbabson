{
 "cells": [
  {
   "cell_type": "code",
   "execution_count": 1,
   "metadata": {},
   "outputs": [],
   "source": [
    "import numpy as np\n",
    "from scipy.linalg import lstsq"
   ]
  },
  {
   "cell_type": "code",
   "execution_count": 2,
   "metadata": {},
   "outputs": [
    {
     "name": "stdout",
     "output_type": "stream",
     "text": [
      "Checking if V is a basis for R3:\n",
      "V does not span R3\n",
      "Rank of V: 2\n",
      "V is not a basis for R3\n",
      "V is linearly dependent\n",
      "V has too many vectors to be a basis for R3\n"
     ]
    }
   ],
   "source": [
    "# Define the standard basis for R3\n",
    "E3 = np.array([(1, 0, 0), (0, 1, 0), (0, 0, 1)])\n",
    "\n",
    "# Define the set V\n",
    "V = np.array([(3, 2, -3), (-2, 5, 2), (-1, 12, 1), (4, 9, -4)])\n",
    "\n",
    "def check_linear_combination(basis, target):\n",
    "    try:\n",
    "        coefficients, residuals, rank, s = lstsq(basis.T, target)\n",
    "        return np.allclose(np.dot(basis.T, coefficients), target), coefficients\n",
    "    except np.linalg.LinAlgError:\n",
    "        return False, None\n",
    "\n",
    "# Check if V is a basis for R3\n",
    "print(\"Checking if V is a basis for R3:\")\n",
    "\n",
    "# First, check if V spans R3\n",
    "span_V = all(check_linear_combination(V, vector)[0] for vector in E3)\n",
    "print(f\"V {'spans' if span_V else 'does not span'} R3\")\n",
    "\n",
    "# Check linear independence\n",
    "_, singular_values, _ = np.linalg.svd(V)\n",
    "rank = np.sum(singular_values > 1e-10)\n",
    "print(f\"Rank of V: {rank}\")\n",
    "\n",
    "if span_V and rank == 3:\n",
    "    print(\"V is a basis for R3\")\n",
    "else:\n",
    "    print(\"V is not a basis for R3\")\n",
    "    if rank < 3:\n",
    "        print(\"V is linearly dependent\")\n",
    "    if V.shape[0] > 3:\n",
    "        print(\"V has too many vectors to be a basis for R3\")"
   ]
  },
  {
   "cell_type": "code",
   "execution_count": 3,
   "metadata": {},
   "outputs": [
    {
     "name": "stdout",
     "output_type": "stream",
     "text": [
      "Checking if vector [ 1  7 -1] is in the span of V:\n",
      "The vector is in the span of V.\n",
      "Linear combination coefficients:\n",
      "  0.1000 * [ 3  2 -3]\n",
      "  0.1000 * [-2  5  2]\n",
      "  0.3000 * [-1 12  1]\n",
      "  0.3000 * [ 4  9 -4]\n",
      "Resulting vector:\n",
      "[ 1.  7. -1.]\n"
     ]
    }
   ],
   "source": [
    "# Define the set V\n",
    "V = np.array([(3, 2, -3), (-2, 5, 2), (-1, 12, 1), (4, 9, -4)])\n",
    "\n",
    "# Define the vector we want to check\n",
    "vector_to_check = np.array([1, 7, -1])\n",
    "\n",
    "def check_linear_combination(basis, target):\n",
    "    try:\n",
    "        coefficients, residuals, rank, s = lstsq(basis.T, target)\n",
    "        is_in_span = np.allclose(np.dot(basis.T, coefficients), target)\n",
    "        return is_in_span, coefficients\n",
    "    except np.linalg.LinAlgError:\n",
    "        return False, None\n",
    "\n",
    "# Check if the vector is in the span of V\n",
    "is_in_span, coefficients = check_linear_combination(V, vector_to_check)\n",
    "\n",
    "print(f\"Checking if vector {vector_to_check} is in the span of V:\")\n",
    "if is_in_span:\n",
    "    print(\"The vector is in the span of V.\")\n",
    "    print(\"Linear combination coefficients:\")\n",
    "    for i, coeff in enumerate(coefficients):\n",
    "        print(f\"  {coeff:.4f} * {V[i]}\")\n",
    "    print(\"Resulting vector:\")\n",
    "    print(np.dot(V.T, coefficients))\n",
    "else:\n",
    "    print(\"The vector is not in the span of V.\")\n",
    "    print(\"Closest approximation:\")\n",
    "    print(np.dot(V.T, coefficients))\n",
    "    print(\"Residual error:\")\n",
    "    print(np.linalg.norm(np.dot(V.T, coefficients) - vector_to_check))"
   ]
  }
 ],
 "metadata": {
  "kernelspec": {
   "display_name": "linear_algebra",
   "language": "python",
   "name": "python3"
  },
  "language_info": {
   "codemirror_mode": {
    "name": "ipython",
    "version": 3
   },
   "file_extension": ".py",
   "mimetype": "text/x-python",
   "name": "python",
   "nbconvert_exporter": "python",
   "pygments_lexer": "ipython3",
   "version": "3.12.6"
  }
 },
 "nbformat": 4,
 "nbformat_minor": 2
}

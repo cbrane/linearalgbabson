{
 "cells": [
  {
   "cell_type": "code",
   "execution_count": 2,
   "metadata": {},
   "outputs": [
    {
     "name": "stdout",
     "output_type": "stream",
     "text": [
      "[[-52.2858209 ]\n",
      " [  0.76492537]]\n",
      "Equation of the line: y = 0.76x + -52.29\n"
     ]
    }
   ],
   "source": [
    "import numpy as np\n",
    "# X values represent height in inches for an NBA player, y represents the # of rebounds they collect for every 48 mins played.\n",
    "# X (inches) = [72, 75, 78, 80, 82, 83]\n",
    "# Y (rebounds per 48 mins) = [3.8, 5.0, 5.2, 9.3, 9.7, 12.8]\n",
    "\n",
    "# Set up the matrix X\n",
    "X = np.array([\n",
    "    [1, 72],\n",
    "    [1, 75],\n",
    "    [1, 78],\n",
    "    [1, 80],\n",
    "    [1, 82],\n",
    "    [1, 83]\n",
    "])\n",
    "\n",
    "# Set up the matrix Y\n",
    "Y = np.array([\n",
    "    [3.8],\n",
    "    [5.0],\n",
    "    [5.2],\n",
    "    [9.3],\n",
    "    [9.7],\n",
    "    [12.8]\n",
    "])\n",
    "\n",
    "# Removed initialization to fix NameError since b is computed later in the code\n",
    "\n",
    "# Then take X transpose:\n",
    "X_transpose = X.T\n",
    "\n",
    "# Then compute X transpose * X:\n",
    "X_transpose_X = X_transpose @ X\n",
    "\n",
    "# Then compute the inverse of X transpose * X:\n",
    "X_transpose_X_inverse = np.linalg.inv(X_transpose_X)\n",
    "\n",
    "# Then compute b-> = Inverse of X transpose * X * X transpose * Y\n",
    "b = X_transpose_X_inverse @ X_transpose @ Y\n",
    "\n",
    "# Print the result\n",
    "print(b)\n",
    "# Print as the line of best fit:\n",
    "print(f\"Equation of the line: y = {b[1][0]:.2f}x + {b[0][0]:.2f}\")"
   ]
  },
  {
   "cell_type": "code",
   "execution_count": 7,
   "metadata": {},
   "outputs": [
    {
     "name": "stdout",
     "output_type": "stream",
     "text": [
      "4.58257569495584\n",
      "4.123105625617661\n",
      "Vector u is longer.\n",
      "The dot product of u and v is: 14.00\n",
      "Vectors u and v are not perpendicular.\n",
      "Position vector: [ 4  1 -4]\n"
     ]
    }
   ],
   "source": [
    "# Consider these three dimensional vectors: u-> = [4, -1, 2], v-> = [4, 0, -1]\n",
    "\n",
    "# Which vector is longer?\n",
    "u = np.array([4, -1, 2])\n",
    "v = np.array([4, 0, -1])\n",
    "\n",
    "u_length = np.linalg.norm(u)\n",
    "v_length = np.linalg.norm(v)\n",
    "\n",
    "print(u_length)\n",
    "print(v_length)\n",
    "\n",
    "if u_length > v_length:\n",
    "    print(\"Vector u is longer.\")\n",
    "elif v_length > u_length:\n",
    "    print(\"Vector v is longer.\")\n",
    "else:\n",
    "    print(\"Both vectors have the same length.\")\n",
    "\n",
    "# Are u-> and v-> perpendicular?\n",
    "dot_product = np.dot(u, v)\n",
    "print(f\"The dot product of u and v is: {dot_product:.2f}\")\n",
    "\n",
    "if np.isclose(dot_product, 0):\n",
    "    print(\"Vectors u and v are perpendicular.\")\n",
    "else:\n",
    "    print(\"Vectors u and v are not perpendicular.\")\n",
    "\n",
    "\n",
    "# Using our usual clsasroom coordinate system [0, 0, 0] at the middle of the whiteboard, where would we be if we went from the origin to -u-> + 2v->? Would we be in the classroom or not?\n",
    "position = -u + 2 * v\n",
    "print(f\"Position vector: {position}\")\n"
   ]
  }
 ],
 "metadata": {
  "kernelspec": {
   "display_name": "linear_algebra",
   "language": "python",
   "name": "python3"
  },
  "language_info": {
   "codemirror_mode": {
    "name": "ipython",
    "version": 3
   },
   "file_extension": ".py",
   "mimetype": "text/x-python",
   "name": "python",
   "nbconvert_exporter": "python",
   "pygments_lexer": "ipython3",
   "version": "3.12.6"
  }
 },
 "nbformat": 4,
 "nbformat_minor": 2
}

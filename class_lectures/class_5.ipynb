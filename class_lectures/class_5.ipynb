{
 "cells": [
  {
   "cell_type": "code",
   "execution_count": 1,
   "metadata": {},
   "outputs": [
    {
     "name": "stdout",
     "output_type": "stream",
     "text": [
      "[[ 2 12  6  2  6]\n",
      " [ 9  2  4  9  1]\n",
      " [ 9  2  4  9  1]\n",
      " [ 4  6  4  4  3]\n",
      " [ 1  6  3  1  3]]\n",
      "Number of ways for the ball to end up in D's hands after 5 passes: 2\n",
      "[[18  4  8 18  2]\n",
      " [ 6 18 10  6  9]\n",
      " [ 6 18 10  6  9]\n",
      " [10  8  7 10  4]\n",
      " [ 9  2  4  9  1]]\n",
      "Number of ways for the ball to end up in D's hands after 6 passes: 18\n"
     ]
    }
   ],
   "source": [
    "# Basketball Problem - Passing\n",
    "import numpy as np\n",
    "\n",
    "# Adjacency Matrix\n",
    "T = np.array([\n",
    "    [0, 1, 1, 0, 0],\n",
    "    [1, 0, 0, 1, 0],\n",
    "    [1, 0, 0, 1, 0],\n",
    "    [0, 1, 0, 0, 1],\n",
    "    [0, 0, 1, 0, 0]\n",
    "])\n",
    "\n",
    "# The ball starts in A's hands. How many ways are there for the ball to end up in D's hands after 5 passes? After 6 passes?\n",
    "\n",
    "# Find T^5\n",
    "T_5 = np.linalg.matrix_power(T, 5)\n",
    "print(T_5)\n",
    "\n",
    "# After 5 passes (using T^5)\n",
    "ways_after_5_passes = T_5[0, 3]  # A is index 0, D is index 3\n",
    "print(f\"Number of ways for the ball to end up in D's hands after 5 passes: {ways_after_5_passes}\")\n",
    "\n",
    "# Calculate T^6\n",
    "T_6 = np.linalg.matrix_power(T, 6)\n",
    "print(T_6)\n",
    "\n",
    "# After 6 passes (using T^6)\n",
    "ways_after_6_passes = T_6[0, 3]  # A is index 0, D is index 3\n",
    "print(f\"Number of ways for the ball to end up in D's hands after 6 passes: {ways_after_6_passes}\")"
   ]
  },
  {
   "cell_type": "code",
   "execution_count": 2,
   "metadata": {},
   "outputs": [
    {
     "name": "stdout",
     "output_type": "stream",
     "text": [
      "Number of paths: 2\n",
      "All paths:\n",
      "A -> B -> D -> E -> C -> D\n",
      "A -> C -> D -> E -> C -> D\n"
     ]
    }
   ],
   "source": [
    "# List all of the specific paths that the ball can take to end up in D's hands after 5 passes:\n",
    "\n",
    "def find_paths(T, start, end, length):\n",
    "    if length == 0:\n",
    "        return [[start]] if start == end else []\n",
    "    \n",
    "    paths = []\n",
    "    for neighbor in range(len(T)):\n",
    "        if T[start][neighbor] == 1:\n",
    "            sub_paths = find_paths(T, neighbor, end, length - 1)\n",
    "            for path in sub_paths:\n",
    "                paths.append([start] + path)\n",
    "    return paths\n",
    "\n",
    "# Find all paths from A (index 0) to D (index 3) with 5 passes\n",
    "all_paths = find_paths(T, 0, 3, 5)\n",
    "\n",
    "# Convert numeric indices to letters\n",
    "index_to_letter = {0: 'A', 1: 'B', 2: 'C', 3: 'D', 4: 'E'}\n",
    "letter_paths = [' -> '.join(index_to_letter[i] for i in path) for path in all_paths]\n",
    "\n",
    "print(f\"Number of paths: {len(letter_paths)}\")\n",
    "print(\"All paths:\")\n",
    "for path in letter_paths:\n",
    "    print(path)"
   ]
  },
  {
   "cell_type": "code",
   "execution_count": 3,
   "metadata": {},
   "outputs": [
    {
     "name": "stdout",
     "output_type": "stream",
     "text": [
      "Number of paths: 18\n",
      "All paths:\n",
      "A -> B -> A -> B -> A -> B -> D\n",
      "A -> B -> A -> B -> A -> C -> D\n",
      "A -> B -> A -> B -> D -> B -> D\n",
      "A -> B -> A -> C -> A -> B -> D\n",
      "A -> B -> A -> C -> A -> C -> D\n",
      "A -> B -> A -> C -> D -> B -> D\n",
      "A -> B -> D -> B -> A -> B -> D\n",
      "A -> B -> D -> B -> A -> C -> D\n",
      "A -> B -> D -> B -> D -> B -> D\n",
      "A -> C -> A -> B -> A -> B -> D\n",
      "A -> C -> A -> B -> A -> C -> D\n",
      "A -> C -> A -> B -> D -> B -> D\n",
      "A -> C -> A -> C -> A -> B -> D\n",
      "A -> C -> A -> C -> A -> C -> D\n",
      "A -> C -> A -> C -> D -> B -> D\n",
      "A -> C -> D -> B -> A -> B -> D\n",
      "A -> C -> D -> B -> A -> C -> D\n",
      "A -> C -> D -> B -> D -> B -> D\n"
     ]
    }
   ],
   "source": [
    "# List all of the specific paths that the ball can take to end up in D's hands after 6 passes:\n",
    "\n",
    "# Find all paths from A (index 0) to D (index 3) with 6 passes\n",
    "all_paths = find_paths(T, 0, 3, 6)\n",
    "\n",
    "# Convert numeric indices to letters\n",
    "index_to_letter = {0: 'A', 1: 'B', 2: 'C', 3: 'D', 4: 'E'}\n",
    "letter_paths = [' -> '.join(index_to_letter[i] for i in path) for path in all_paths]\n",
    "\n",
    "print(f\"Number of paths: {len(letter_paths)}\")\n",
    "print(\"All paths:\")\n",
    "for path in letter_paths:\n",
    "    print(path)"
   ]
  },
  {
   "cell_type": "code",
   "execution_count": 15,
   "metadata": {},
   "outputs": [
    {
     "name": "stdout",
     "output_type": "stream",
     "text": [
      "Reduced Row Echelon Form:\n",
      "Matrix([[1, 0, -1, 25], [0, 1, -1, 0], [0, 0, 0, 0]])\n"
     ]
    }
   ],
   "source": [
    "# Text Problem 4, page 80-81; skipping part (e.)\n",
    "\n",
    "# Traffic Flow Problem: 3 streets streets with flow going in and out. In units of cars per 10 minutes, Main has 50 cars going out, 25 cars going in, Pier has 150 cars going in and 150 cars going out, and North has 75 cars going out and 100 cars going in. X1 is the number of cars between North and Main, X2 is the number of cars between Main and Pier, and X3 is the number of cars between North and Pier.\n",
    "\n",
    "# Set up the system of equations:\n",
    "# X1 - X2 = 25\n",
    "# X2 - X3 = 0\n",
    "# -X1 + X3 = -25\n",
    "\n",
    "import numpy as np\n",
    "from sympy import Matrix, init_printing\n",
    "\n",
    "# Set up the augmented matrix for the system\n",
    "A = np.array([\n",
    "    [1, -1, 0, 25],\n",
    "    [0, 1, -1, 0],\n",
    "    [-1, 0, 1, -25]\n",
    "])\n",
    "\n",
    "# Convert to SymPy matrix for easy RREF calculation\n",
    "M = Matrix(A)\n",
    "\n",
    "# Calculate the RREF\n",
    "rref_M = M.rref()[0]\n",
    "\n",
    "print(\"Reduced Row Echelon Form:\")\n",
    "print(rref_M)"
   ]
  },
  {
   "cell_type": "code",
   "execution_count": 8,
   "metadata": {},
   "outputs": [
    {
     "data": {
      "image/png": "[encoded data removed]",
      "text/plain": [
       "<Figure size 1000x600 with 1 Axes>"
      ]
     },
     "metadata": {},
     "output_type": "display_data"
    },
    {
     "name": "stdout",
     "output_type": "stream",
     "text": [
      "Equation of the line: y = -2.00x + 72.00\n"
     ]
    }
   ],
   "source": [
    "# Suppose we have these data points (x, y) where x is hours of exercise per week and y is resting pulse (beats/minute) for five people: (0,76), (2,64), (6,56), (8,60), (12,48). We want to find the line y = b0 + b1x that best fits these points. We'll be using a simple graph method like you would in Excel.\n",
    "\n",
    "# Set up the x and y points:\n",
    "x = np.array([0, 2, 6, 8, 12])\n",
    "y = np.array([76, 64, 56, 60, 48])\n",
    "\n",
    "# Calculate the coefficients of the line of best fit\n",
    "coeffs = np.polyfit(x, y, 1)\n",
    "b1, b0 = coeffs\n",
    "\n",
    "# Create the line of best fit\n",
    "line = b0 + b1 * x\n",
    "\n",
    "# Graph our points and the line of best fit:\n",
    "import matplotlib.pyplot as plt\n",
    "\n",
    "plt.figure(figsize=(10, 6))\n",
    "plt.scatter(x, y, color='blue', label='Data points')\n",
    "plt.plot(x, line, color='red', label='Line of best fit')\n",
    "plt.xlabel('Hours of exercise per week')\n",
    "plt.ylabel('Resting pulse (beats/minute)')\n",
    "plt.title('Exercise vs Resting Pulse')\n",
    "plt.legend()\n",
    "plt.grid(True)\n",
    "plt.show()\n",
    "\n",
    "# Print the equation of the line\n",
    "print(f\"Equation of the line: y = {b1:.2f}x + {b0:.2f}\")"
   ]
  },
  {
   "cell_type": "code",
   "execution_count": 14,
   "metadata": {},
   "outputs": [
    {
     "name": "stdout",
     "output_type": "stream",
     "text": [
      "[[72.]\n",
      " [-2.]]\n",
      "Equation of the line: y = -2.00x + 72.00\n"
     ]
    }
   ],
   "source": [
    "# Solve same problem using X as a 5x2 matrix, Y as a 5x1 matrix, and then b-> is a 2x1 matrix, with entries b0 and b1. Our goal is to solve X * b-> = Y. Our goal here is to show how regression works & what something like Excel uses to find the line of best fit.\n",
    "\n",
    "# Set up the matrix X\n",
    "X = np.array([\n",
    "    [1, 0],\n",
    "    [1, 2],\n",
    "    [1, 6],\n",
    "    [1, 8],\n",
    "    [1, 12]\n",
    "])\n",
    "\n",
    "# Set up the matrix Y\n",
    "Y = np.array([\n",
    "    [76],\n",
    "    [64],\n",
    "    [56],\n",
    "    [60],\n",
    "    [48]\n",
    "])\n",
    "\n",
    "# Set up the matrix b->\n",
    "b = np.array([\n",
    "    [b0],\n",
    "    [b1]\n",
    "])\n",
    "\n",
    "# Then take X transpose:\n",
    "X_transpose = X.T\n",
    "\n",
    "# Then compute X transpose * X:\n",
    "X_transpose_X = X_transpose @ X\n",
    "\n",
    "# Then compute the inverse of X transpose * X:\n",
    "X_transpose_X_inverse = np.linalg.inv(X_transpose_X)\n",
    "\n",
    "# Then compute b-> = Inverse of X transpose * X * X transpose * Y\n",
    "b = X_transpose_X_inverse @ X_transpose @ Y\n",
    "\n",
    "# Print the result\n",
    "print(b)\n",
    "# Print as the line of best fit:\n",
    "print(f\"Equation of the line: y = {b[1][0]:.2f}x + {b[0][0]:.2f}\")"
   ]
  }
 ],
 "metadata": {
  "kernelspec": {
   "display_name": "linear_algebra",
   "language": "python",
   "name": "python3"
  },
  "language_info": {
   "codemirror_mode": {
    "name": "ipython",
    "version": 3
   },
   "file_extension": ".py",
   "mimetype": "text/x-python",
   "name": "python",
   "nbconvert_exporter": "python",
   "pygments_lexer": "ipython3",
   "version": "3.12.5"
  }
 },
 "nbformat": 4,
 "nbformat_minor": 2
}

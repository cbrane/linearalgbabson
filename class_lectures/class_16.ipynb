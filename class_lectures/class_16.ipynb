{
 "cells": [
  {
   "cell_type": "code",
   "execution_count": 5,
   "metadata": {},
   "outputs": [
    {
     "name": "stdout",
     "output_type": "stream",
     "text": [
      "T^1000 matrix:\n",
      "[[0.47337278 0.35502959 0.07100592 0.10059172]\n",
      " [0.47337278 0.35502959 0.07100592 0.10059172]\n",
      " [0.47337278 0.35502959 0.07100592 0.10059172]\n",
      " [0.47337278 0.35502959 0.07100592 0.10059172]]\n",
      "The percentage of all days on which the machine is totally useless is approximately 10.06%\n"
     ]
    }
   ],
   "source": [
    "# Over the long term estimate the percentage of all days on which the machine is totally useless, i.e., neither the copier nor scanner is working. The matrix is T = np.array([[.6, .15, .15, .1], [.05, .8, .0, .15], [1, 0, 0, 0], [1, 0, 0, 0]]). The order of the matrix is both, copier, scanner, neither, with the intersections being the percentage chance that tomorrow, let's say if both the printer and the copier are working, that tomorrow they will have a .6 chance of both being working (the intersection of both and both)\n",
    "import numpy as np\n",
    "# Calculate T^1000:\n",
    "T = np.array([[.6, .15, .15, .1], [.05, .8, .0, .15], [1, 0, 0, 0], [1, 0, 0, 0]])\n",
    "T_1000 = np.linalg.matrix_power(T, 1000)\n",
    "print(\"T^1000 matrix:\")\n",
    "print(T_1000)\n",
    "useless_percentage = T_1000[0, 3] * 100\n",
    "print(f\"The percentage of all days on which the machine is totally useless is approximately {useless_percentage:.2f}%\")"
   ]
  },
  {
   "cell_type": "code",
   "execution_count": 4,
   "metadata": {},
   "outputs": [],
   "source": [
    "# Generate a matrix in class & find the homomorphism it represents, whether that function is one-to-one or onto, and also the range space, the rank, the null space, and the nullity of the function.\n",
    "import numpy as np\n",
    "C = np.array([[4, -1, 5], [-3, 0, -2], [1, 4, 2], [5, -5, 5]])"
   ]
  },
  {
   "cell_type": "code",
   "execution_count": 7,
   "metadata": {},
   "outputs": [
    {
     "name": "stdout",
     "output_type": "stream",
     "text": [
      "The homomorphism represented by matrix C is:\n",
      "f(x, y, z) = [ 8 -5  7  5]\n",
      "Is the function one-to-one? Yes\n",
      "Is the function onto? No\n",
      "The dimension of the range space is: 3\n",
      "The rank of the matrix is: 3\n",
      "The null space of the matrix is:\n",
      "[ 0.74783603  0.10431203 -0.6556373 ]\n",
      "The nullity of the matrix is: 0\n"
     ]
    }
   ],
   "source": [
    "# Find the homomorphism of C\n",
    "homomorphism = lambda x, y, z: C @ np.array([x, y, z])\n",
    "print(\"The homomorphism represented by matrix C is:\")\n",
    "print(\"f(x, y, z) =\", homomorphism(1, 1, 1))  # Example evaluation\n",
    "\n",
    "# Check if the function is one-to-one (injective)\n",
    "rank = np.linalg.matrix_rank(C)\n",
    "is_one_to_one = rank == C.shape[1]\n",
    "print(f\"Is the function one-to-one? {'Yes' if is_one_to_one else 'No'}\")\n",
    "\n",
    "# Check if the function is onto (surjective)\n",
    "is_onto = rank == C.shape[0]\n",
    "print(f\"Is the function onto? {'Yes' if is_onto else 'No'}\")\n",
    "\n",
    "# Find the range space\n",
    "range_space = np.linalg.matrix_rank(C)\n",
    "print(f\"The dimension of the range space is: {range_space}\")\n",
    "\n",
    "# Find the rank\n",
    "print(f\"The rank of the matrix is: {rank}\")\n",
    "\n",
    "# Find the null space\n",
    "null_space = np.linalg.svd(C)[2][-1]\n",
    "print(\"The null space of the matrix is:\")\n",
    "print(null_space)\n",
    "\n",
    "# Find the nullity\n",
    "nullity = C.shape[1] - rank\n",
    "print(f\"The nullity of the matrix is: {nullity}\")\n"
   ]
  }
 ],
 "metadata": {
  "kernelspec": {
   "display_name": "linear_algebra",
   "language": "python",
   "name": "python3"
  },
  "language_info": {
   "codemirror_mode": {
    "name": "ipython",
    "version": 3
   },
   "file_extension": ".py",
   "mimetype": "text/x-python",
   "name": "python",
   "nbconvert_exporter": "python",
   "pygments_lexer": "ipython3",
   "version": "3.12.6"
  }
 },
 "nbformat": 4,
 "nbformat_minor": 2
}

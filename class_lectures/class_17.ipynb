{
 "cells": [
  {
   "cell_type": "code",
   "execution_count": 1,
   "metadata": {},
   "outputs": [
    {
     "name": "stdout",
     "output_type": "stream",
     "text": [
      "The inverse transformation matrix is:\n",
      "[[ 0.33333333 -0.16666667]\n",
      " [-0.         -0.5       ]]\n",
      "\n",
      "g^-1(2,3) = (0.16666666666666663, -1.5)\n"
     ]
    }
   ],
   "source": [
    "# g(a, b) = (3a-b, -2b)\n",
    "# Find g^-1(2, 3)\n",
    "\n",
    "import numpy as np\n",
    "\n",
    "# To find g^-1, first write g as a matrix transformation\n",
    "# [3  -1] \n",
    "# [0  -2]\n",
    "\n",
    "# Create the matrix\n",
    "A = np.array([[3, -1], \n",
    "              [0, -2]])\n",
    "\n",
    "# Find inverse matrix\n",
    "A_inv = np.linalg.inv(A)\n",
    "\n",
    "print(\"The inverse transformation matrix is:\")\n",
    "print(A_inv)\n",
    "\n",
    "# Apply inverse to point (2,3)\n",
    "point = np.array([2, 3])\n",
    "result = A_inv @ point\n",
    "\n",
    "print(f\"\\ng^-1(2,3) = ({result[0]}, {result[1]})\")"
   ]
  },
  {
   "cell_type": "code",
   "execution_count": 2,
   "metadata": {},
   "outputs": [
    {
     "name": "stdout",
     "output_type": "stream",
     "text": [
      "T^4 of B is:\n",
      "[[0.21   0.182  0.608 ]\n",
      " [0.2024 0.2136 0.584 ]\n",
      " [0.1864 0.142  0.6716]]\n"
     ]
    }
   ],
   "source": [
    "# Find T^4 of B:\n",
    "B = np.array([[0, .5, .5],\n",
    "              [.4, .4, .2], \n",
    "              [.2, 0, .8]])\n",
    "\n",
    "# Calculate T^4 by multiplying B by itself 4 times\n",
    "T4 = np.linalg.matrix_power(B, 4)\n",
    "\n",
    "print(\"T^4 of B is:\")\n",
    "print(T4)\n"
   ]
  }
 ],
 "metadata": {
  "kernelspec": {
   "display_name": "linear_algebra",
   "language": "python",
   "name": "python3"
  },
  "language_info": {
   "codemirror_mode": {
    "name": "ipython",
    "version": 3
   },
   "file_extension": ".py",
   "mimetype": "text/x-python",
   "name": "python",
   "nbconvert_exporter": "python",
   "pygments_lexer": "ipython3",
   "version": "3.12.6"
  }
 },
 "nbformat": 4,
 "nbformat_minor": 2
}

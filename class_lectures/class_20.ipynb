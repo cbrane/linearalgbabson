{
 "cells": [
  {
   "cell_type": "code",
   "execution_count": 9,
   "metadata": {},
   "outputs": [
    {
     "name": "stdout",
     "output_type": "stream",
     "text": [
      "Change of basis matrix from B to D:\n",
      "[[ 3.  1.]\n",
      " [-1.  2.]]\n",
      "\n",
      "Verification - D @ P should equal B:\n",
      "D @ P =\n",
      "[[-4.  1.]\n",
      " [ 1.  5.]]\n",
      "\n",
      "Original B =\n",
      "[[-4  1]\n",
      " [ 1  5]]\n",
      "\n",
      "Are they equal?\n",
      "True\n"
     ]
    }
   ],
   "source": [
    "# Part 1A: We have two bases for R^2: B = {(-4, 1), (1, 5)} and D = {(-1, 1), (1, 2)}\n",
    "\n",
    "# Find the change of basis matrix from B to D.\n",
    "\n",
    "import numpy as np\n",
    "\n",
    "# Create matrices directly from the basis vectors\n",
    "B = np.array([[-4, 1],\n",
    "              [1, 5]])  # Each column represents a basis vector\n",
    "D = np.array([[-1, 1],\n",
    "              [1, 2]])  # Each column represents a basis vector\n",
    "\n",
    "# The change of basis matrix P from B to D is found by:\n",
    "# P = D^(-1)B\n",
    "P = np.linalg.inv(D) @ B\n",
    "\n",
    "print(\"Change of basis matrix from B to D:\")\n",
    "print(P)\n",
    "\n",
    "# Let's verify this is correct by checking that D @ P = B\n",
    "# This should be true since P transforms vectors from B coordinates to D coordinates\n",
    "verification = D @ P\n",
    "print(\"\\nVerification - D @ P should equal B:\")\n",
    "print(\"D @ P =\")\n",
    "print(verification)\n",
    "print(\"\\nOriginal B =\")\n",
    "print(B)\n",
    "print(\"\\nAre they equal?\")\n",
    "print(np.allclose(verification, B))  # Using allclose to handle floating point errors\n"
   ]
  },
  {
   "cell_type": "code",
   "execution_count": 12,
   "metadata": {},
   "outputs": [
    {
     "name": "stdout",
     "output_type": "stream",
     "text": [
      "v1 relative to basis B:\n",
      "[3. 2.]\n",
      "\n",
      "A * v1_B:\n",
      "[11.  1.]\n"
     ]
    }
   ],
   "source": [
    "# Part 1B: Find representation of v1 relative to basis B and compute A * v1_B\n",
    "\n",
    "import numpy as np\n",
    "\n",
    "# Original vector v1 in standard basis E2\n",
    "v1_E2 = np.array([-10, 13])\n",
    "\n",
    "# Basis B from previous part\n",
    "B = np.array([[-4, 1],\n",
    "              [1, 5]])\n",
    "\n",
    "# Find v1 relative to basis B by solving B @ x = v1_E2\n",
    "v1_B = np.linalg.solve(B, v1_E2)\n",
    "\n",
    "print(\"v1 relative to basis B:\")\n",
    "print(v1_B)\n",
    "\n",
    "# Matrix A from part A\n",
    "A = np.array([[3, 1],\n",
    "              [-1, 2]])\n",
    "\n",
    "# Compute A * v1_B\n",
    "result = A @ v1_B\n",
    "\n",
    "print(\"\\nA * v1_B:\")\n",
    "print(result)\n"
   ]
  },
  {
   "cell_type": "code",
   "execution_count": 14,
   "metadata": {},
   "outputs": [
    {
     "name": "stdout",
     "output_type": "stream",
     "text": [
      "v1 relative to basis D:\n",
      "[11.  1.]\n",
      "\n",
      "Result from part B (A * v1_B):\n",
      "[11.  1.]\n",
      "\n",
      "Are they equal?\n",
      "True\n"
     ]
    }
   ],
   "source": [
    "# Part 1C: Show that your answer to part B is the representation of v1 relative to D.\n",
    "\n",
    "# First, let's find v1 relative to basis D by solving D @ x = v1_E2\n",
    "v1_D = np.linalg.solve(D, v1_E2)\n",
    "\n",
    "print(\"v1 relative to basis D:\")\n",
    "print(v1_D)\n",
    "\n",
    "print(\"\\nResult from part B (A * v1_B):\")\n",
    "print(result)\n",
    "\n",
    "print(\"\\nAre they equal?\")\n",
    "print(np.allclose(v1_D, result))  # Using allclose for floating point comparison"
   ]
  },
  {
   "cell_type": "code",
   "execution_count": 16,
   "metadata": {},
   "outputs": [
    {
     "name": "stdout",
     "output_type": "stream",
     "text": [
      "Vector to project v: [ 2 -3  2]\n",
      "Direction vector u: [1 2 1]\n",
      "\n",
      "Dot product v·u: -2\n",
      "Magnitude squared of u (u·u): 6\n",
      "\n",
      "Scaling factor (v·u)/(u·u): -0.3333333333333333\n",
      "\n",
      "Final projection (scaling_factor * u):\n",
      "[-0.33333333 -0.66666667 -0.33333333]\n"
     ]
    }
   ],
   "source": [
    "# Part 2a: Find the projection of the vector (2 -3 2) onto the line determined by k*(1 2 1)\n",
    "\n",
    "# Define vectors\n",
    "v = np.array([2, -3, 2])  # Vector to project\n",
    "u = np.array([1, 2, 1])   # Direction vector of the line\n",
    "print(\"Vector to project v:\", v)\n",
    "print(\"Direction vector u:\", u)\n",
    "\n",
    "# Calculate dot product v·u\n",
    "dot_product = np.dot(v, u)\n",
    "print(\"\\nDot product v·u:\", dot_product)\n",
    "\n",
    "# Calculate magnitude squared of u (u·u)\n",
    "u_magnitude_squared = np.dot(u, u)\n",
    "print(\"Magnitude squared of u (u·u):\", u_magnitude_squared)\n",
    "\n",
    "# Calculate scaling factor (v·u)/(u·u)\n",
    "scaling_factor = dot_product / u_magnitude_squared\n",
    "print(\"\\nScaling factor (v·u)/(u·u):\", scaling_factor)\n",
    "\n",
    "# Calculate final projection\n",
    "projection = scaling_factor * u\n",
    "print(\"\\nFinal projection (scaling_factor * u):\")\n",
    "print(projection)\n"
   ]
  },
  {
   "cell_type": "code",
   "execution_count": 17,
   "metadata": {},
   "outputs": [
    {
     "name": "stdout",
     "output_type": "stream",
     "text": [
      "Distance between points: 4.041451884327381\n",
      "\n",
      "Is the 4 unit rope long enough?\n",
      "No, the distance is 4.04 units\n"
     ]
    }
   ],
   "source": [
    "# Part 2b: A person standing at (2 -3 2) has a piece of rope that is 4 units long. Is the rope long enough to reach a friend standing at the projection from part a?\n",
    "\n",
    "# Calculate the distance between the points using the distance formula\n",
    "distance = np.linalg.norm(v - projection)\n",
    "print(f\"Distance between points: {distance}\")\n",
    "\n",
    "# Check if rope is long enough\n",
    "rope_length = 4\n",
    "is_long_enough = distance <= rope_length\n",
    "print(f\"\\nIs the {rope_length} unit rope long enough?\")\n",
    "print(f\"{'Yes' if is_long_enough else 'No'}, the distance is {distance:.2f} units\")"
   ]
  },
  {
   "cell_type": "code",
   "execution_count": 21,
   "metadata": {},
   "outputs": [
    {
     "name": "stdout",
     "output_type": "stream",
     "text": [
      "Matrix B:\n",
      "[[ 3  3]\n",
      " [-1  1]]\n",
      "\n",
      "Determinant of B: 6.0\n"
     ]
    },
    {
     "data": {
      "image/png": "[encoded data removed]",
      "text/plain": [
       "<Figure size 800x800 with 1 Axes>"
      ]
     },
     "metadata": {},
     "output_type": "display_data"
    }
   ],
   "source": [
    "# Part 3: Compute the determinant of matrix B = [3 3; -1 1]\n",
    "import matplotlib.pyplot as plt\n",
    "\n",
    "# Define matrix B\n",
    "B = np.array([[3, 3],\n",
    "              [-1, 1]])\n",
    "print(\"Matrix B:\")\n",
    "print(B)\n",
    "\n",
    "# Calculate determinant\n",
    "det_B = np.linalg.det(B)\n",
    "print(\"\\nDeterminant of B:\", det_B)\n",
    "\n",
    "# Create a plot to visualize the matrix transformation\n",
    "plt.figure(figsize=(8, 8))\n",
    "\n",
    "# Plot unit square vertices\n",
    "unit_square = np.array([[0, 0], [1, 0], [1, 1], [0, 1], [0, 0]])\n",
    "plt.plot(unit_square[:, 0], unit_square[:, 1], 'b--', label='Unit Square')\n",
    "\n",
    "# Transform unit square vertices using matrix B\n",
    "transformed_square = np.dot(unit_square, B.T)\n",
    "plt.plot(transformed_square[:, 0], transformed_square[:, 1], 'r-', \n",
    "         label='Transformed Square')\n",
    "\n",
    "# Add grid and labels\n",
    "plt.grid(True)\n",
    "plt.axhline(y=0, color='k', linestyle='-', linewidth=0.5)\n",
    "plt.axvline(x=0, color='k', linestyle='-', linewidth=0.5)\n",
    "plt.xlabel('x')\n",
    "plt.ylabel('y')\n",
    "plt.title('Geometric Interpretation of det(B)\\n'\n",
    "          f'Area of transformed unit square = {abs(det_B):.2f}')\n",
    "plt.legend()\n",
    "\n",
    "# Set equal aspect ratio and reasonable limits\n",
    "plt.axis('equal')\n",
    "plt.xlim(-1, 7)\n",
    "plt.ylim(-4, 4)\n",
    "\n",
    "plt.show()\n"
   ]
  }
 ],
 "metadata": {
  "kernelspec": {
   "display_name": "linear_algebra",
   "language": "python",
   "name": "python3"
  },
  "language_info": {
   "codemirror_mode": {
    "name": "ipython",
    "version": 3
   },
   "file_extension": ".py",
   "mimetype": "text/x-python",
   "name": "python",
   "nbconvert_exporter": "python",
   "pygments_lexer": "ipython3",
   "version": "3.12.7"
  }
 },
 "nbformat": 4,
 "nbformat_minor": 2
}

{
 "cells": [
  {
   "cell_type": "code",
   "execution_count": 1,
   "metadata": {},
   "outputs": [
    {
     "name": "stdout",
     "output_type": "stream",
     "text": [
      "Matrix M:\n",
      "[[ 1  0 -1]\n",
      " [-2  1  4]]\n",
      "\n",
      "Left Singular Vectors (U):\n",
      "[[-0.27794882  0.96059588]\n",
      " [ 0.96059588  0.27794882]]\n",
      "\n",
      "Singular Values (Sigma):\n",
      "[4.76823893 0.51370952]\n",
      "\n",
      "Right Singular Vectors (V^T):\n",
      "[[-0.46120604  0.20145716  0.86412036]\n",
      " [ 0.78779586  0.54106224  0.29432861]\n",
      " [ 0.40824829 -0.81649658  0.40824829]]\n",
      "\n",
      "Columns of M:\n",
      "Column 1: [ 1 -2]\n",
      "Column 2: [0 1]\n",
      "Column 3: [-1  4]\n",
      "\n",
      "Right Singular Vectors (V):\n",
      "Right Singular Vector 1: [-0.46120604  0.78779586  0.40824829]\n",
      "Right Singular Vector 2: [ 0.20145716  0.54106224 -0.81649658]\n",
      "Right Singular Vector 3: [0.86412036 0.29432861 0.40824829]\n",
      "\n",
      "Rows of M:\n",
      "Row 1: [ 1  0 -1]\n",
      "Row 2: [-2  1  4]\n",
      "\n",
      "Left Singular Vectors (U):\n",
      "Left Singular Vector 1: [-0.27794882  0.96059588]\n",
      "Left Singular Vector 2: [0.96059588 0.27794882]\n"
     ]
    }
   ],
   "source": [
    "import numpy as np\n",
    "from numpy.linalg import svd\n",
    "\n",
    "# Define the matrix M\n",
    "M = np.array([[1, 0, -1],\n",
    "              [-2, 1, 4]])\n",
    "\n",
    "# Compute the SVD\n",
    "U, Sigma, Vt = svd(M)\n",
    "\n",
    "# Task 1: Singular vectors for the columns of M\n",
    "print(\"Matrix M:\")\n",
    "print(M)\n",
    "print(\"\\nLeft Singular Vectors (U):\")\n",
    "print(U)\n",
    "print(\"\\nSingular Values (Sigma):\")\n",
    "print(Sigma)\n",
    "print(\"\\nRight Singular Vectors (V^T):\")\n",
    "print(Vt)\n",
    "\n",
    "# Columns of M and their geometric interpretation\n",
    "print(\"\\nColumns of M:\")\n",
    "for i in range(M.shape[1]):\n",
    "    print(f\"Column {i+1}: {M[:, i]}\")\n",
    "\n",
    "# Geometric transformation applied by V\n",
    "print(\"\\nRight Singular Vectors (V):\")\n",
    "for i in range(Vt.shape[1]):\n",
    "    print(f\"Right Singular Vector {i+1}: {Vt[:, i]}\")\n",
    "\n",
    "# Task 2: Singular vectors for the rows of M\n",
    "print(\"\\nRows of M:\")\n",
    "for i in range(M.shape[0]):\n",
    "    print(f\"Row {i+1}: {M[i, :]}\")\n",
    "\n",
    "# Geometric transformation applied by U\n",
    "print(\"\\nLeft Singular Vectors (U):\")\n",
    "for i in range(U.shape[1]):\n",
    "    print(f\"Left Singular Vector {i+1}: {U[:, i]}\")\n"
   ]
  },
  {
   "cell_type": "code",
   "execution_count": 2,
   "metadata": {},
   "outputs": [
    {
     "name": "stdout",
     "output_type": "stream",
     "text": [
      "Matrix A Singular Values:\n",
      "[20.17820726  0.74829927]\n",
      "Matrix A Right Singular Vectors (V^T):\n",
      "[[-0.70735021 -0.70686327]\n",
      " [-0.70686327  0.70735021]]\n",
      "\n",
      "Matrix B Singular Values:\n",
      "[18.76889335  5.40172588]\n",
      "Matrix B Right Singular Vectors (V^T):\n",
      "[[-0.73558635 -0.67743097]\n",
      " [ 0.67743097 -0.73558635]]\n"
     ]
    }
   ],
   "source": [
    "import numpy as np\n",
    "from numpy.linalg import svd\n",
    "\n",
    "# Define the corrected matrices A and B\n",
    "A = np.array([[1, 0.1],\n",
    "              [2, 1.7],\n",
    "              [3, 2.8],\n",
    "              [4, 4.0],\n",
    "              [5, 4.8],\n",
    "              [6, 6.3],\n",
    "              [7, 7.2],\n",
    "              [8, 7.9]])\n",
    "\n",
    "B = np.array([[1, 0.1],\n",
    "              [2, 7.3],\n",
    "              [3, 4.1],\n",
    "              [4, 4.4],\n",
    "              [5, 1.8],\n",
    "              [6, 6.3],\n",
    "              [7, 3.2],\n",
    "              [8, 5.9]])\n",
    "\n",
    "# Perform SVD for both matrices\n",
    "U_A, Sigma_A, Vt_A = svd(A, full_matrices=False)\n",
    "U_B, Sigma_B, Vt_B = svd(B, full_matrices=False)\n",
    "\n",
    "# Print results\n",
    "print(\"Matrix A Singular Values:\")\n",
    "print(Sigma_A)\n",
    "print(\"Matrix A Right Singular Vectors (V^T):\")\n",
    "print(Vt_A)\n",
    "\n",
    "print(\"\\nMatrix B Singular Values:\")\n",
    "print(Sigma_B)\n",
    "print(\"Matrix B Right Singular Vectors (V^T):\")\n",
    "print(Vt_B)\n"
   ]
  },
  {
   "cell_type": "code",
   "execution_count": 3,
   "metadata": {},
   "outputs": [
    {
     "name": "stdout",
     "output_type": "stream",
     "text": [
      "Singular Values:\n",
      "[127.52405772   8.4371524    1.1954754 ]\n",
      "\n",
      "First Singular Vector (Row Space):\n",
      "[-0.52714128 -0.46575337 -0.45866369 -0.40913404 -0.35697734]\n"
     ]
    }
   ],
   "source": [
    "import numpy as np\n",
    "from numpy.linalg import svd\n",
    "\n",
    "# Define the matrix\n",
    "M = np.array([[60, 29, 10],\n",
    "              [52, 27, 10],\n",
    "              [50, 29, 9],\n",
    "              [43, 28, 10],\n",
    "              [36, 27, 9]])\n",
    "\n",
    "# Compute the SVD\n",
    "U, Sigma, Vt = svd(M, full_matrices=False)\n",
    "\n",
    "# Output results\n",
    "print(\"Singular Values:\")\n",
    "print(Sigma)\n",
    "print(\"\\nFirst Singular Vector (Row Space):\")\n",
    "print(U[:, 0])\n"
   ]
  },
  {
   "cell_type": "code",
   "execution_count": 4,
   "metadata": {},
   "outputs": [
    {
     "name": "stdout",
     "output_type": "stream",
     "text": [
      "Variance in Exam: 66.55999999999999\n",
      "Variance in Quiz: 0.8\n",
      "Variance in Homework: 0.24\n",
      "\n",
      "Category with the highest variability: Exam\n"
     ]
    }
   ],
   "source": [
    "import numpy as np\n",
    "\n",
    "# Define the grades matrix\n",
    "grades = np.array([\n",
    "    [60, 29, 10],  # Student A\n",
    "    [52, 27, 10],  # Student B\n",
    "    [50, 29, 9],   # Student C\n",
    "    [43, 28, 10],  # Student D\n",
    "    [36, 27, 9]    # Student E\n",
    "])\n",
    "\n",
    "# Compute the variance for each category\n",
    "variances = np.var(grades, axis=0)\n",
    "\n",
    "# Print the variances\n",
    "categories = [\"Exam\", \"Quiz\", \"Homework\"]\n",
    "for i, var in enumerate(variances):\n",
    "    print(f\"Variance in {categories[i]}: {var}\")\n",
    "\n",
    "# Find the category with the highest variance\n",
    "max_var_index = np.argmax(variances)\n",
    "print(f\"\\nCategory with the highest variability: {categories[max_var_index]}\")\n"
   ]
  }
 ],
 "metadata": {
  "kernelspec": {
   "display_name": "linear_algebra",
   "language": "python",
   "name": "python3"
  },
  "language_info": {
   "codemirror_mode": {
    "name": "ipython",
    "version": 3
   },
   "file_extension": ".py",
   "mimetype": "text/x-python",
   "name": "python",
   "nbconvert_exporter": "python",
   "pygments_lexer": "ipython3",
   "version": "3.12.7"
  }
 },
 "nbformat": 4,
 "nbformat_minor": 2
}

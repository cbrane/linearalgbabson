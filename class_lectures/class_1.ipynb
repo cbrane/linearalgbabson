{
 "cells": [
  {
   "cell_type": "code",
   "execution_count": 2,
   "metadata": {},
   "outputs": [
    {
     "name": "stdout",
     "output_type": "stream",
     "text": [
      "Matrix A:\n",
      "[[ 1  1 30]]\n",
      "\n",
      "Matrix B:\n",
      "[ 10  12 324]\n",
      "\n",
      "Result of matrix multiplication:\n",
      "[9742]\n"
     ]
    }
   ],
   "source": [
    "# Matrix Multiplication - Task 5\n",
    "import numpy as np\n",
    "\n",
    "# Define the matrices\n",
    "matrix_A = np.array([[1, 1, 30]])\n",
    "matrix_B = np.array([10, 12, 324])\n",
    "\n",
    "# Perform matrix multiplication\n",
    "result = np.dot(matrix_A, matrix_B)\n",
    "\n",
    "print(\"Matrix A:\")\n",
    "print(matrix_A)\n",
    "print(\"\\nMatrix B:\")\n",
    "print(matrix_B)\n",
    "print(\"\\nResult of matrix multiplication:\")\n",
    "print(result)\n"
   ]
  }
 ],
 "metadata": {
  "kernelspec": {
   "display_name": "linear_algebra",
   "language": "python",
   "name": "python3"
  },
  "language_info": {
   "codemirror_mode": {
    "name": "ipython",
    "version": 3
   },
   "file_extension": ".py",
   "mimetype": "text/x-python",
   "name": "python",
   "nbconvert_exporter": "python",
   "pygments_lexer": "ipython3",
   "version": "3.12.5"
  }
 },
 "nbformat": 4,
 "nbformat_minor": 2
}

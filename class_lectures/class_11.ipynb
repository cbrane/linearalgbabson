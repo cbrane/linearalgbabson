{
 "cells": [
  {
   "cell_type": "code",
   "execution_count": 2,
   "metadata": {},
   "outputs": [],
   "source": [
    "import numpy as np\n",
    "from scipy.linalg import lstsq"
   ]
  },
  {
   "cell_type": "code",
   "execution_count": 2,
   "metadata": {},
   "outputs": [
    {
     "name": "stdout",
     "output_type": "stream",
     "text": [
      "Checking if V is a basis for R3:\n",
      "V does not span R3\n",
      "Rank of V: 2\n",
      "V is not a basis for R3\n",
      "V is linearly dependent\n",
      "V has too many vectors to be a basis for R3\n"
     ]
    }
   ],
   "source": [
    "# Define the standard basis for R3\n",
    "E3 = np.array([(1, 0, 0), (0, 1, 0), (0, 0, 1)])\n",
    "\n",
    "# Define the set V\n",
    "V = np.array([(3, 2, -3), (-2, 5, 2), (-1, 12, 1), (4, 9, -4)])\n",
    "\n",
    "def check_linear_combination(basis, target):\n",
    "    try:\n",
    "        coefficients, residuals, rank, s = lstsq(basis.T, target)\n",
    "        return np.allclose(np.dot(basis.T, coefficients), target), coefficients\n",
    "    except np.linalg.LinAlgError:\n",
    "        return False, None\n",
    "\n",
    "# Check if V is a basis for R3\n",
    "print(\"Checking if V is a basis for R3:\")\n",
    "\n",
    "# First, check if V spans R3\n",
    "span_V = all(check_linear_combination(V, vector)[0] for vector in E3)\n",
    "print(f\"V {'spans' if span_V else 'does not span'} R3\")\n",
    "\n",
    "# Check linear independence\n",
    "_, singular_values, _ = np.linalg.svd(V)\n",
    "rank = np.sum(singular_values > 1e-10)\n",
    "print(f\"Rank of V: {rank}\")\n",
    "\n",
    "if span_V and rank == 3:\n",
    "    print(\"V is a basis for R3\")\n",
    "else:\n",
    "    print(\"V is not a basis for R3\")\n",
    "    if rank < 3:\n",
    "        print(\"V is linearly dependent\")\n",
    "    if V.shape[0] > 3:\n",
    "        print(\"V has too many vectors to be a basis for R3\")"
   ]
  },
  {
   "cell_type": "code",
   "execution_count": 3,
   "metadata": {},
   "outputs": [
    {
     "name": "stdout",
     "output_type": "stream",
     "text": [
      "Checking if vector [ 1  7 -1] is in the span of V:\n",
      "The vector is in the span of V.\n",
      "Linear combination coefficients:\n",
      "  0.1000 * [ 3  2 -3]\n",
      "  0.1000 * [-2  5  2]\n",
      "  0.3000 * [-1 12  1]\n",
      "  0.3000 * [ 4  9 -4]\n",
      "Resulting vector:\n",
      "[ 1.  7. -1.]\n"
     ]
    }
   ],
   "source": [
    "# Define the set V\n",
    "V = np.array([(3, 2, -3), (-2, 5, 2), (-1, 12, 1), (4, 9, -4)])\n",
    "\n",
    "# Define the vector we want to check\n",
    "vector_to_check = np.array([1, 7, -1])\n",
    "\n",
    "def check_linear_combination(basis, target):\n",
    "    try:\n",
    "        coefficients, residuals, rank, s = lstsq(basis.T, target)\n",
    "        is_in_span = np.allclose(np.dot(basis.T, coefficients), target)\n",
    "        return is_in_span, coefficients\n",
    "    except np.linalg.LinAlgError:\n",
    "        return False, None\n",
    "\n",
    "# Check if the vector is in the span of V\n",
    "is_in_span, coefficients = check_linear_combination(V, vector_to_check)\n",
    "\n",
    "print(f\"Checking if vector {vector_to_check} is in the span of V:\")\n",
    "if is_in_span:\n",
    "    print(\"The vector is in the span of V.\")\n",
    "    print(\"Linear combination coefficients:\")\n",
    "    for i, coeff in enumerate(coefficients):\n",
    "        print(f\"  {coeff:.4f} * {V[i]}\")\n",
    "    print(\"Resulting vector:\")\n",
    "    print(np.dot(V.T, coefficients))\n",
    "else:\n",
    "    print(\"The vector is not in the span of V.\")\n",
    "    print(\"Closest approximation:\")\n",
    "    print(np.dot(V.T, coefficients))\n",
    "    print(\"Residual error:\")\n",
    "    print(np.linalg.norm(np.dot(V.T, coefficients) - vector_to_check))"
   ]
  },
  {
   "cell_type": "code",
   "execution_count": 3,
   "metadata": {},
   "outputs": [
    {
     "ename": "NameError",
     "evalue": "name 'V' is not defined",
     "output_type": "error",
     "traceback": [
      "\u001b[0;31m---------------------------------------------------------------------------\u001b[0m",
      "\u001b[0;31mNameError\u001b[0m                                 Traceback (most recent call last)",
      "Cell \u001b[0;32mIn[3], line 5\u001b[0m\n\u001b[1;32m      1\u001b[0m \u001b[38;5;66;03m# Find another vector in R^3 that is in the span of V & give a linear combination of the vectors in V that produce it.\u001b[39;00m\n\u001b[1;32m      2\u001b[0m \n\u001b[1;32m      3\u001b[0m \u001b[38;5;66;03m# Generate a vector in the span of V using integer coefficients\u001b[39;00m\n\u001b[1;32m      4\u001b[0m integer_coefficients \u001b[38;5;241m=\u001b[39m np\u001b[38;5;241m.\u001b[39marray([\u001b[38;5;241m1\u001b[39m, \u001b[38;5;241m2\u001b[39m, \u001b[38;5;241m-\u001b[39m\u001b[38;5;241m1\u001b[39m, \u001b[38;5;241m3\u001b[39m])  \u001b[38;5;66;03m# Example integer coefficients\u001b[39;00m\n\u001b[0;32m----> 5\u001b[0m vector_in_span \u001b[38;5;241m=\u001b[39m np\u001b[38;5;241m.\u001b[39mdot(\u001b[43mV\u001b[49m\u001b[38;5;241m.\u001b[39mT, integer_coefficients)\n\u001b[1;32m      7\u001b[0m \u001b[38;5;28mprint\u001b[39m(\u001b[38;5;124mf\u001b[39m\u001b[38;5;124m\"\u001b[39m\u001b[38;5;124mA vector in the span of V: \u001b[39m\u001b[38;5;132;01m{\u001b[39;00mvector_in_span\u001b[38;5;132;01m}\u001b[39;00m\u001b[38;5;124m\"\u001b[39m)\n\u001b[1;32m      9\u001b[0m \u001b[38;5;66;03m# Find the coefficients of the linear combination\u001b[39;00m\n",
      "\u001b[0;31mNameError\u001b[0m: name 'V' is not defined"
     ]
    }
   ],
   "source": [
    "# Find another vector in R^3 that is in the span of V & give a linear combination of the vectors in V that produce it.\n",
    "\n",
    "# Generate a vector in the span of V using integer coefficients\n",
    "integer_coefficients = np.array([1, 2, -1, 3])  # Example integer coefficients\n",
    "vector_in_span = np.dot(V.T, integer_coefficients)\n",
    "\n",
    "print(f\"A vector in the span of V: {vector_in_span}\")\n",
    "\n",
    "# Find the coefficients of the linear combination\n",
    "V_transpose = V.T\n",
    "coefficients = np.linalg.lstsq(V_transpose, vector_in_span, rcond=None)[0]\n",
    "\n",
    "print(\"\\nLinear combination:\")\n",
    "for i, coeff in enumerate(coefficients):\n",
    "    print(f\"  {coeff:.4f} * {V[i]}\")\n",
    "\n",
    "print(\"\\nVerification:\")\n",
    "print(f\"Resulting vector: {np.dot(V_transpose, coefficients)}\")\n",
    "print(f\"Difference from original vector: {np.linalg.norm(np.dot(V_transpose, coefficients) - vector_in_span)}\")\n",
    "\n",
    "# Display the integer coefficients used to generate the vector\n",
    "print(\"\\nInteger coefficients used:\")\n",
    "for i, coeff in enumerate(integer_coefficients):\n",
    "    print(f\"  {coeff} * {V[i]}\")\n"
   ]
  },
  {
   "cell_type": "code",
   "execution_count": 4,
   "metadata": {},
   "outputs": [
    {
     "name": "stdout",
     "output_type": "stream",
     "text": [
      "Coefficients of the linear combination:\n",
      "[ 4. -1. -1.]\n",
      "\n",
      "Verification:\n",
      "Result of linear combination: [6. 3. 3.]\n",
      "Target vector: [6 3 3]\n",
      "Difference: 0.0\n",
      "\n",
      "Final result after applying the function:\n",
      "[10. -1.]\n"
     ]
    }
   ],
   "source": [
    "# R^3 -> R^2 takes the basis vectors (1 1 1), (-1 1 0), (-1 0 1) to (3 1), (0 1) and (2 4) respectively. \n",
    "\n",
    "# First we have to find (6 3 3) as a linear combination of the basis vectors.\n",
    "basis_vectors = np.array([[1, 1, 1], [-1, 1, 0], [-1, 0, 1]])\n",
    "target_vector = np.array([6, 3, 3])\n",
    "\n",
    "coefficients = np.linalg.solve(basis_vectors.T, target_vector)\n",
    "print(\"Coefficients of the linear combination:\")\n",
    "print(coefficients)\n",
    "\n",
    "# Verify the linear combination\n",
    "result = np.dot(basis_vectors.T, coefficients)\n",
    "print(\"\\nVerification:\")\n",
    "print(f\"Result of linear combination: {result}\")\n",
    "print(f\"Target vector: {target_vector}\")\n",
    "print(f\"Difference: {np.linalg.norm(result - target_vector)}\")\n",
    "\n",
    "# Then we apply the function to the linear combination and get the result.\n",
    "function_outputs = np.array([[3, 1], [0, 1], [2, 4]])\n",
    "final_result = np.dot(function_outputs.T, coefficients)\n",
    "\n",
    "print(\"\\nFinal result after applying the function:\")\n",
    "print(final_result)"
   ]
  }
 ],
 "metadata": {
  "kernelspec": {
   "display_name": "linear_algebra",
   "language": "python",
   "name": "python3"
  },
  "language_info": {
   "codemirror_mode": {
    "name": "ipython",
    "version": 3
   },
   "file_extension": ".py",
   "mimetype": "text/x-python",
   "name": "python",
   "nbconvert_exporter": "python",
   "pygments_lexer": "ipython3",
   "version": "3.12.6"
  }
 },
 "nbformat": 4,
 "nbformat_minor": 2
}

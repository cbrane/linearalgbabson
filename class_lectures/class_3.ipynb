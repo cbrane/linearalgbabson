{
 "cells": [
  {
   "cell_type": "code",
   "execution_count": 3,
   "metadata": {},
   "outputs": [
    {
     "name": "stdout",
     "output_type": "stream",
     "text": [
      "The inverse of matrix A is:\n",
      "[[ 0.09803922 -0.1372549   0.29411765]\n",
      " [ 0.31372549 -0.03921569 -0.05882353]\n",
      " [-0.03921569  0.25490196 -0.11764706]]\n",
      "\n",
      "The Reduced Row Echelon Form (RREF) of matrix A is:\n",
      "[[1. 0. 0.]\n",
      " [0. 1. 0.]\n",
      " [0. 0. 1.]]\n"
     ]
    }
   ],
   "source": [
    "import numpy as np\n",
    "\n",
    "# Define the matrix A\n",
    "A = np.array([\n",
    "    [1, 3, 1],\n",
    "    [2, 0, 5],\n",
    "    [4, -1, 2]\n",
    "])\n",
    "\n",
    "# Compute the inverse of matrix A\n",
    "A_inverse = np.linalg.inv(A)\n",
    "\n",
    "# Print the inverse matrix\n",
    "print(\"The inverse of matrix A is:\")\n",
    "print(A_inverse)\n",
    "\n",
    "\n",
    "# Compute the Reduced Row Echelon Form (RREF) of matrix A\n",
    "A_rref = np.array(A, dtype=float)  # Create a copy of A as float type\n",
    "n_rows, n_cols = A_rref.shape\n",
    "\n",
    "for i in range(min(n_rows, n_cols)):\n",
    "    # Find pivot\n",
    "    pivot_row = i + np.argmax(np.abs(A_rref[i:, i]))\n",
    "    A_rref[[i, pivot_row]] = A_rref[[pivot_row, i]]\n",
    "    \n",
    "    # Normalize pivot row\n",
    "    A_rref[i] = A_rref[i] / A_rref[i, i]\n",
    "    \n",
    "    # Eliminate in other rows\n",
    "    for j in range(n_rows):\n",
    "        if j != i:\n",
    "            A_rref[j] -= A_rref[j, i] * A_rref[i]\n",
    "\n",
    "# Round to avoid floating point errors\n",
    "A_rref = np.round(A_rref, decimals=10)\n",
    "\n",
    "# Print the RREF of matrix A\n",
    "print(\"\\nThe Reduced Row Echelon Form (RREF) of matrix A is:\")\n",
    "print(A_rref)"
   ]
  },
  {
   "cell_type": "code",
   "execution_count": 5,
   "metadata": {},
   "outputs": [
    {
     "name": "stdout",
     "output_type": "stream",
     "text": [
      "The inverse of matrix B is:\n",
      "[[-4.18191394e+15  2.09095697e+15  2.09095697e+15]\n",
      " [ 6.43371375e+14 -3.21685688e+14 -3.21685688e+14]\n",
      " [ 2.25179981e+15 -1.12589991e+15 -1.12589991e+15]]\n"
     ]
    }
   ],
   "source": [
    "# try to find the inverse of this matrix:\n",
    "B = np.array([\n",
    "    [2, -1, 4],\n",
    "    [1, 3, 1],\n",
    "    [3, -5, 7]\n",
    "])\n",
    "\n",
    "B_inverse = np.linalg.inv(B)\n",
    "\n",
    "print(\"The inverse of matrix B is:\")\n",
    "print(B_inverse)"
   ]
  }
 ],
 "metadata": {
  "kernelspec": {
   "display_name": "linear_algebra",
   "language": "python",
   "name": "python3"
  },
  "language_info": {
   "codemirror_mode": {
    "name": "ipython",
    "version": 3
   },
   "file_extension": ".py",
   "mimetype": "text/x-python",
   "name": "python",
   "nbconvert_exporter": "python",
   "pygments_lexer": "ipython3",
   "version": "3.12.5"
  }
 },
 "nbformat": 4,
 "nbformat_minor": 2
}

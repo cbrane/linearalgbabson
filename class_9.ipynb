{
 "cells": [
  {
   "cell_type": "code",
   "execution_count": 1,
   "metadata": {},
   "outputs": [
    {
     "name": "stdout",
     "output_type": "stream",
     "text": [
      "Checking if B3 is a basis for R3:\n",
      "[1 0 0] is a linear combination of B3 with coefficients [ 1. -3.  1.]\n",
      "[0 1 0] is a linear combination of B3 with coefficients [ 1.  5. -2.]\n",
      "[0 0 1] is a linear combination of B3 with coefficients [-1. -2.  1.]\n",
      "\n",
      "Checking if E3 is a basis for R3:\n",
      "[1 1 1] is a linear combination of E3 with coefficients [1. 1. 1.]\n",
      "[1 2 3] is a linear combination of E3 with coefficients [1. 2. 3.]\n",
      "[3 5 8] is a linear combination of E3 with coefficients [3. 5. 8.]\n"
     ]
    }
   ],
   "source": [
    "# Check two bases with linear combination to see if they are bases for R3\n",
    "\n",
    "import numpy as np\n",
    "from scipy.linalg import solve\n",
    "\n",
    "B3 = np.array([(1, 1, 1), (1, 2, 3), (3, 5, 8)])\n",
    "E3 = np.array([(1, 0, 0), (0, 1, 0), (0, 0, 1)])\n",
    "\n",
    "def check_linear_combination(basis, target):\n",
    "    try:\n",
    "        coefficients = solve(basis.T, target)\n",
    "        return True, coefficients\n",
    "    except np.linalg.LinAlgError:\n",
    "        return False, None\n",
    "\n",
    "# Check if B3 is a basis for R3\n",
    "print(\"Checking if B3 is a basis for R3:\")\n",
    "for vector in E3:\n",
    "    is_combination, coeffs = check_linear_combination(B3, vector)\n",
    "    if is_combination:\n",
    "        print(f\"{vector} is a linear combination of B3 with coefficients {coeffs}\")\n",
    "    else:\n",
    "        print(f\"{vector} is not a linear combination of B3\")\n",
    "\n",
    "# Check if E3 is a basis for R3\n",
    "print(\"\\nChecking if E3 is a basis for R3:\")\n",
    "for vector in B3:\n",
    "    is_combination, coeffs = check_linear_combination(E3, vector)\n",
    "    if is_combination:\n",
    "        print(f\"{vector} is a linear combination of E3 with coefficients {coeffs}\")\n",
    "    else:\n",
    "        print(f\"{vector} is not a linear combination of E3\")\n"
   ]
  },
  {
   "cell_type": "code",
   "execution_count": 2,
   "metadata": {},
   "outputs": [
    {
     "name": "stdout",
     "output_type": "stream",
     "text": [
      "\n",
      "Checking if B3 spans R3:\n",
      "B3 spans R3\n",
      "\n",
      "Checking if E3 spans R3:\n",
      "E3 spans R3\n",
      "\n",
      "Both B3 and E3 are bases for R3\n"
     ]
    }
   ],
   "source": [
    "# Check that B3 and E3 span R3 (i.e., are bases for R3)\n",
    "\n",
    "print(\"\\nChecking if B3 spans R3:\")\n",
    "span_B3 = all(check_linear_combination(B3, vector)[0] for vector in E3)\n",
    "print(f\"B3 {'spans' if span_B3 else 'does not span'} R3\")\n",
    "\n",
    "print(\"\\nChecking if E3 spans R3:\")\n",
    "span_E3 = all(check_linear_combination(E3, vector)[0] for vector in B3)\n",
    "print(f\"E3 {'spans' if span_E3 else 'does not span'} R3\")\n",
    "\n",
    "if span_B3 and span_E3:\n",
    "    print(\"\\nBoth B3 and E3 are bases for R3\")\n",
    "elif span_B3:\n",
    "    print(\"\\nOnly B3 is a basis for R3\")\n",
    "elif span_E3:\n",
    "    print(\"\\nOnly E3 is a basis for R3\")\n",
    "else:\n",
    "    print(\"\\nNeither B3 nor E3 is a basis for R3\")\n"
   ]
  },
  {
   "cell_type": "code",
   "execution_count": 3,
   "metadata": {},
   "outputs": [
    {
     "name": "stdout",
     "output_type": "stream",
     "text": [
      "The vector [ 3 -4  6] is a linear combination of E3 with coefficients [ 3. -4.  6.]\n"
     ]
    }
   ],
   "source": [
    "# Represent the vector (3, -4, 6) as a linear combination of the basis vectors in E3\n",
    "vector_to_represent = np.array([3, -4, 6])\n",
    "is_combination, coeffs = check_linear_combination(E3, vector_to_represent)\n",
    "if is_combination:\n",
    "    print(f\"The vector {vector_to_represent} is a linear combination of E3 with coefficients {coeffs}\")\n",
    "else:\n",
    "    print(f\"The vector {vector_to_represent} is not a linear combination of E3\")\n"
   ]
  },
  {
   "cell_type": "code",
   "execution_count": 4,
   "metadata": {},
   "outputs": [
    {
     "name": "stdout",
     "output_type": "stream",
     "text": [
      "The vector [ 3 -4  6] is a linear combination of B3 with coefficients [ -7. -41.  17.]\n"
     ]
    }
   ],
   "source": [
    "# Represent the vector (3, -4, 6) as a linear combination of the basis vectors in B3.\n",
    "vector_to_represent = np.array([3, -4, 6])\n",
    "is_combination, coeffs = check_linear_combination(B3, vector_to_represent)\n",
    "if is_combination:\n",
    "    print(f\"The vector {vector_to_represent} is a linear combination of B3 with coefficients {coeffs}\")\n",
    "else:\n",
    "    print(f\"The vector {vector_to_represent} is not a linear combination of B3\")\n"
   ]
  },
  {
   "cell_type": "code",
   "execution_count": 6,
   "metadata": {},
   "outputs": [
    {
     "name": "stdout",
     "output_type": "stream",
     "text": [
      "\n",
      "Checking if B is a basis for R3:\n",
      "[1 0 0] is a linear combination of B with coefficients [ 7.20575940e+15 -1.44115188e+16  3.60287970e+15]\n",
      "[0 1 0] is a linear combination of B with coefficients [-1.80143985e+16  3.60287970e+16 -9.00719925e+15]\n",
      "[0 0 1] is a linear combination of B with coefficients [ 1.08086391e+16 -2.16172782e+16  5.40431955e+15]\n"
     ]
    },
    {
     "name": "stderr",
     "output_type": "stream",
     "text": [
      "/var/folders/4c/d6mxj1_s0qzf8gdb0j1j9dsc0000gn/T/ipykernel_31874/1238804762.py:11: LinAlgWarning: Ill-conditioned matrix (rcond=1.58603e-18): result may not be accurate.\n",
      "  coefficients = solve(basis.T, target)\n"
     ]
    }
   ],
   "source": [
    "# Is the set B a basis for R3?\n",
    "\n",
    "B = np.array([(-1, 2, 4), (1, 1, 1), (6, 0, -4)])\n",
    "\n",
    "# Check if B is a basis for R3\n",
    "print(\"\\nChecking if B is a basis for R3:\")\n",
    "for vector in E3:\n",
    "    is_combination, coeffs = check_linear_combination(B, vector)\n",
    "    if is_combination:\n",
    "        print(f\"{vector} is a linear combination of B with coefficients {coeffs}\")\n",
    "    else:\n",
    "        print(f\"{vector} is not a linear combination of B\")"
   ]
  }
 ],
 "metadata": {
  "kernelspec": {
   "display_name": "linear_algebra",
   "language": "python",
   "name": "python3"
  },
  "language_info": {
   "codemirror_mode": {
    "name": "ipython",
    "version": 3
   },
   "file_extension": ".py",
   "mimetype": "text/x-python",
   "name": "python",
   "nbconvert_exporter": "python",
   "pygments_lexer": "ipython3",
   "version": "3.12.6"
  }
 },
 "nbformat": 4,
 "nbformat_minor": 2
}

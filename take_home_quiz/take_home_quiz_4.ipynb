{
 "cells": [
  {
   "cell_type": "code",
   "execution_count": 2,
   "metadata": {},
   "outputs": [],
   "source": [
    "import numpy as np\n",
    "\n",
    "# 1-1. Define the adjacency matrix\n",
    "A = np.array([\n",
    "    [0, 1, 0, 1, 0, 0, 0, 0, 0],  # Row A\n",
    "    [1, 0, 1, 0, 1, 0, 0, 0, 0],  # Row B\n",
    "    [0, 1, 0, 0, 0, 0, 0, 0, 0],  # Row C\n",
    "    [1, 0, 0, 0, 0, 0, 1, 0, 0],  # Row D\n",
    "    [0, 0, 0, 1, 0, 1, 0, 1, 0],  # Row E\n",
    "    [0, 0, 1, 0, 1, 0, 0, 0, 1],  # Row F\n",
    "    [0, 0, 0, 1, 0, 0, 0, 1, 0],  # Row G\n",
    "    [0, 0, 0, 0, 1, 0, 0, 0, 1],  # Row H\n",
    "    [0, 0, 0, 0, 0, 1, 0, 1, 0]   # Row I\n",
    "])"
   ]
  },
  {
   "cell_type": "code",
   "execution_count": 5,
   "metadata": {},
   "outputs": [
    {
     "name": "stdout",
     "output_type": "stream",
     "text": [
      "[[ 0 11  0 17  0  9  0 13  0]\n",
      " [17  0 13  0 21  0 10  0 14]\n",
      " [ 0  7  0 10  0  6  0  8  0]\n",
      " [11  0  7  0 12  0  7  0  8]\n",
      " [ 0 12  0 21  0 20  0 24  0]\n",
      " [13  0 14  0 24  0  8  0 19]\n",
      " [ 0  7  0 13  0 11  0 14  0]\n",
      " [ 9  0 11  0 20  0  6  0 17]\n",
      " [ 0  8  0 14  0 17  0 19  0]]\n"
     ]
    }
   ],
   "source": [
    "# 1-2. Compute A5. Pick the smallest entry in A5 (if there is a tie, pick any one) and explain the meaning of the entry in words.\n",
    "A5 = np.linalg.matrix_power(A, 5)\n",
    "print(A5)"
   ]
  },
  {
   "cell_type": "code",
   "execution_count": 8,
   "metadata": {},
   "outputs": [
    {
     "name": "stdout",
     "output_type": "stream",
     "text": [
      "A10:\n",
      "   A     B     C     D     E     F     G     H     I    \n",
      "A    608     0   531     0   911     0   379     0   682 \n",
      "B      0   712     0  1186     0   999     0  1235     0 \n",
      "C    379     0   333     0   571     0   236     0   428 \n",
      "D      0   427     0   712     0   594     0   737     0 \n",
      "E    911     0   847     0  1464     0   571     0  1124 \n",
      "F      0   737     0  1235     0  1092     0  1330     0 \n",
      "G    531     0   490     0   847     0   333     0   649 \n",
      "H      0   594     0   999     0   902     0  1092     0 \n",
      "I    682     0   649     0  1124     0   428     0   870 \n",
      "\n",
      "A11:\n",
      "   A     B     C     D     E     F     G     H     I    \n",
      "A      0  1139     0  1898     0  1593     0  1972     0 \n",
      "B   1898     0  1711     0  2946     0  1186     0  2234 \n",
      "C      0   712     0  1186     0   999     0  1235     0 \n",
      "D   1139     0  1021     0  1758     0   712     0  1331 \n",
      "E      0  1758     0  2946     0  2588     0  3159     0 \n",
      "F   1972     0  1829     0  3159     0  1235     0  2422 \n",
      "G      0  1021     0  1711     0  1496     0  1829     0 \n",
      "H   1593     0  1496     0  2588     0   999     0  1994 \n",
      "I      0  1331     0  2234     0  1994     0  2422     0 \n",
      "\n",
      "A12:\n",
      "   A     B     C     D     E     F     G     H     I    \n",
      "A   3037     0  2732     0  4704     0  1898     0  3565 \n",
      "B      0  3609     0  6030     0  5180     0  6366     0 \n",
      "C   1898     0  1711     0  2946     0  1186     0  2234 \n",
      "D      0  2160     0  3609     0  3089     0  3801     0 \n",
      "E   4704     0  4346     0  7505     0  2946     0  5747 \n",
      "F      0  3801     0  6366     0  5581     0  6816     0 \n",
      "G   2732     0  2517     0  4346     0  1711     0  3325 \n",
      "H      0  3089     0  5180     0  4582     0  5581     0 \n",
      "I   3565     0  3325     0  5747     0  2234     0  4416 \n",
      "\n",
      "Number of paths of length 10: 1092\n",
      "Number of paths of length 11: 0\n",
      "Number of paths of length 12: 5581\n",
      "Total number of paths: 6673\n"
     ]
    }
   ],
   "source": [
    "# 1-3. A person who starts at corner F is in the mood for a long walk on this grid, covering anything from 10 to 12 blocks from corner to corner.  How many different paths of length 10, 11 or 12 can the person follow to start at F and end up back at home at F?  Explain your answer in a paragraph as well as doing the appropriate calculations. \n",
    "\n",
    "# To find this, we can calculate A10, A11, and A12, to see how many paths of each there are at [F,F] which is the entry [6,6] in our matrix. \n",
    "\n",
    "# Calculate A10, A11, and A12\n",
    "A10 = np.linalg.matrix_power(A, 10)\n",
    "A11 = np.linalg.matrix_power(A, 11)\n",
    "A12 = np.linalg.matrix_power(A, 12)\n",
    "\n",
    "# Print the matrices to the console with labels\n",
    "labels = ['A', 'B', 'C', 'D', 'E', 'F', 'G', 'H', 'I']\n",
    "\n",
    "def print_labeled_matrix(matrix, name):\n",
    "    print(f\"{name}:\")\n",
    "    print(\"   \" + \" \".join(f\"{label:5}\" for label in labels))\n",
    "    for i, row in enumerate(matrix):\n",
    "        print(f\"{labels[i]:2}\", end=\" \")\n",
    "        for value in row:\n",
    "            print(f\"{value:5d}\", end=\" \")\n",
    "        print()\n",
    "    print()\n",
    "\n",
    "print_labeled_matrix(A10, \"A10\")\n",
    "print_labeled_matrix(A11, \"A11\")\n",
    "print_labeled_matrix(A12, \"A12\")\n",
    "\n",
    "# Find the entry [6, 6] in each of these matrices to see how many paths there are of length 10, 11, and 12\n",
    "# Note: We use [5,5] instead of [6,6] because Python uses 0-based indexing\n",
    "print(\"Number of paths of length 10:\", A10[5,5])\n",
    "print(\"Number of paths of length 11:\", A11[5,5])\n",
    "print(\"Number of paths of length 12:\", A12[5,5])\n",
    "\n",
    "# Total number of paths\n",
    "total_paths = A10[5,5] + A11[5,5] + A12[5,5]\n",
    "print(\"Total number of paths:\", total_paths)"
   ]
  },
  {
   "cell_type": "code",
   "execution_count": 10,
   "metadata": {},
   "outputs": [
    {
     "name": "stdout",
     "output_type": "stream",
     "text": [
      "The superhero cannot catch the villain at this point.\n"
     ]
    }
   ],
   "source": [
    "# Question 2: A superhero is at the origin of a three dimensional space.  The superhero has two devices, a hoverboard that moves any distance in the direction (1 -4  2) and a magic carpet that moves any distance in the direction (-1 3  2). \n",
    "\n",
    "#2-1.) An evil villain is hiding out at the point (5 -19  6).  Can the superhero catch the villain at this point?   If so, give the linear combination of the hoverboard and magic carpet vectors that bring us to the villain.\n",
    "\n",
    "# Create the hoverboard, magic carpet, and villain vectors\n",
    "hoverboard = np.array([1, -4, 2])\n",
    "magic_carpet = np.array([-1, 3, 2])\n",
    "villain = np.array([5, -19, 6])\n",
    "\n",
    "# Check if there is a linear combination of hoverboard and magic carpet that equals the villain\n",
    "# We need to solve the equation: a * hoverboard + b * magic_carpet = villain\n",
    "# This is equivalent to solving the system of linear equations:\n",
    "#   a + (-1)b = 5\n",
    "#   (-4)a + 3b = -19\n",
    "#   2a + 2b = 6\n",
    "\n",
    "# We can use numpy's linalg.solve to find the solution\n",
    "A = np.array([[1, -1], [-4, 3], [2, 2]])\n",
    "b = np.array([5, -19, 6])\n",
    "\n",
    "try:\n",
    "    solution = np.linalg.solve(A, b)\n",
    "    a, b = solution\n",
    "    print(f\"The superhero can catch the villain!\")\n",
    "    print(f\"The linear combination is: {a:.2f} * hoverboard + {b:.2f} * magic_carpet\")\n",
    "    \n",
    "    # Verify the solution\n",
    "    result = a * hoverboard + b * magic_carpet\n",
    "    print(f\"Resulting point: {result}\")\n",
    "    print(f\"Villain's location: {villain}\")\n",
    "    print(f\"Difference: {np.allclose(result, villain)}\")\n",
    "except np.linalg.LinAlgError:\n",
    "    print(\"The superhero cannot catch the villain at this point.\")"
   ]
  },
  {
   "cell_type": "code",
   "execution_count": 17,
   "metadata": {},
   "outputs": [
    {
     "name": "stdout",
     "output_type": "stream",
     "text": [
      "The scooter vector: [-14  -4  -1]\n",
      "\n",
      "Rank of the matrix formed by hoverboard, magic carpet, and scooter vectors: 3\n",
      "The scooter vector is linearly independent from the hoverboard and magic carpet vectors.\n",
      "This allows the superhero to reach every point in R3.\n"
     ]
    }
   ],
   "source": [
    "# 2-2.)  The superhero picks up a third device, a scooter.  Give a vector in R3 that the scooter could move along that would allow the superhero to reach every point in R3.\n",
    "\n",
    "# To reach every point in R3, we need the scooter's vector to be linearly independent from the hoverboard and magic carpet vectors.\n",
    "# We can choose any vector that is not in the span of the hoverboard and magic carpet vectors.\n",
    "\n",
    "# Let's calculate the cross product of hoverboard and magic carpet vectors\n",
    "scooter = np.cross(hoverboard, magic_carpet)\n",
    "\n",
    "print(\"The scooter vector:\", scooter)\n",
    "\n",
    "# Verify linear independence\n",
    "matrix = np.column_stack((hoverboard, magic_carpet, scooter))\n",
    "rank = np.linalg.matrix_rank(matrix)\n",
    "\n",
    "print(\"\\nRank of the matrix formed by hoverboard, magic carpet, and scooter vectors:\", rank)\n",
    "if rank == 3:\n",
    "    print(\"The scooter vector is linearly independent from the hoverboard and magic carpet vectors.\")\n",
    "    print(\"This allows the superhero to reach every point in R3.\")\n",
    "else:\n",
    "    print(\"Error: The chosen vector is not linearly independent.\")\n"
   ]
  }
 ],
 "metadata": {
  "kernelspec": {
   "display_name": "linear_algebra",
   "language": "python",
   "name": "python3"
  },
  "language_info": {
   "codemirror_mode": {
    "name": "ipython",
    "version": 3
   },
   "file_extension": ".py",
   "mimetype": "text/x-python",
   "name": "python",
   "nbconvert_exporter": "python",
   "pygments_lexer": "ipython3",
   "version": "3.12.6"
  }
 },
 "nbformat": 4,
 "nbformat_minor": 2
}

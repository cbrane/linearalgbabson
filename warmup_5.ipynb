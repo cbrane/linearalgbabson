{
 "cells": [
  {
   "cell_type": "code",
   "execution_count": 2,
   "metadata": {},
   "outputs": [
    {
     "name": "stdout",
     "output_type": "stream",
     "text": [
      "Matrix T (adjacency matrix):\n",
      "[[0 1 1 0 0]\n",
      " [1 0 0 1 1]\n",
      " [1 0 0 0 0]\n",
      " [0 1 0 0 0]\n",
      " [0 1 0 1 0]]\n",
      "\n",
      "Matrix T^3:\n",
      "[[0 4 2 1 0]\n",
      " [4 1 0 3 3]\n",
      " [2 0 0 1 1]\n",
      " [0 3 1 1 0]\n",
      " [1 3 1 2 1]]\n",
      "\n",
      "A passenger starts in Albany and takes three flights. They could be in:\n",
      "- Boston (4 ways)\n",
      "- Concord (2 ways)\n",
      "- Durham (1 way)\n"
     ]
    }
   ],
   "source": [
    "import numpy as np\n",
    "\n",
    "# Define the cities\n",
    "cities = ['Albany', 'Boston', 'Concord', 'Durham', 'Exeter']\n",
    "\n",
    "# Create the adjacency matrix T\n",
    "T = np.array([\n",
    "    [0, 1, 1, 0, 0],  # Albany\n",
    "    [1, 0, 0, 1, 1],  # Boston\n",
    "    [1, 0, 0, 0, 0],  # Concord\n",
    "    [0, 1, 0, 0, 0],  # Durham\n",
    "    [0, 1, 0, 1, 0]   # Exeter\n",
    "])\n",
    "\n",
    "# Calculate T^3\n",
    "T3 = np.linalg.matrix_power(T, 3)\n",
    "\n",
    "# Print T\n",
    "print(\"Matrix T (adjacency matrix):\")\n",
    "print(T)\n",
    "print()\n",
    "\n",
    "# Print T^3\n",
    "print(\"Matrix T^3:\")\n",
    "print(T3)\n",
    "print()\n",
    "\n",
    "# Answer the question\n",
    "print(\"A passenger starts in Albany and takes three flights. They could be in:\")\n",
    "for i, count in enumerate(T3[0]):\n",
    "    if count > 0:\n",
    "        print(f\"- {cities[i]} ({count} {'way' if count == 1 else 'ways'})\")"
   ]
  }
 ],
 "metadata": {
  "kernelspec": {
   "display_name": "linear_algebra",
   "language": "python",
   "name": "python3"
  },
  "language_info": {
   "codemirror_mode": {
    "name": "ipython",
    "version": 3
   },
   "file_extension": ".py",
   "mimetype": "text/x-python",
   "name": "python",
   "nbconvert_exporter": "python",
   "pygments_lexer": "ipython3",
   "version": "3.12.5"
  }
 },
 "nbformat": 4,
 "nbformat_minor": 2
}
